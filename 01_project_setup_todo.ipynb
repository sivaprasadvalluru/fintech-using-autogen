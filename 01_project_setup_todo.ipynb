{
 "cells": [
  {
   "cell_type": "markdown",
   "id": "22c3e18d",
   "metadata": {},
   "source": [
    "# Fintech-AutoGen Project: Step-by-Step Implementation Guide\n",
    "\n",
    "Welcome! This notebook will guide you through building the Fintech-AutoGen project from scratch. You will learn how to set up your environment, scaffold the project, and understand the purpose behind each component. Code is provided as comments—uncomment as you progress. Each step includes detailed explanations to help you understand the \"why\" behind the actions."
   ]
  },
  {
   "cell_type": "markdown",
   "id": "15410eb6",
   "metadata": {},
   "source": [
    "## Step 1: Install `uv`, Create a Virtual Environment, and Initialize the Project\n",
    "\n",
    "We use [`uv`](https://github.com/astral-sh/uv) for fast Python dependency management and environment creation. `uv` can create a virtual environment and initialize your project, automatically generating a `pyproject.toml` file for you. You can also use `uv init` to quickly scaffold a new Python project with a virtual environment and `pyproject.toml` in one step.\n",
    "\n",
    "**Why?**\n",
    "- Isolates your project dependencies\n",
    "- Ensures reproducibility\n",
    "- `pyproject.toml` is created and managed automatically\n",
    "- `uv init` is the fastest way to start a new project\n",
    "\n",
    "**Instructions:**\n",
    "- Open a terminal in your project folder.\n",
    "- You can use either of the following approaches:\n",
    "\n",
    "**Option 1: Manual Steps**\n",
    "- Run each command below step by step:"
   ]
  },
  {
   "cell_type": "code",
   "execution_count": null,
   "id": "b6390f28",
   "metadata": {},
   "outputs": [],
   "source": [
    "# TODO: Uncomment and run ONE of the following in your terminal (not in the notebook)\n",
    "#\n",
    "# First, install uv (if not already installed)\n",
    "# pip install uv\n",
    "#\n",
    "# Recommended: Use uv init to scaffold your project, create a virtual environment, and generate pyproject.toml interactively\n",
    "# uv init\n",
    "#\n",
    "# If you want to do it manually (advanced):\n",
    "# uv venv .venv\n",
    "# .venv\\Scripts\\Activate.ps1\n",
    "# uv pip install --upgrade pip"
   ]
  },
  {
   "cell_type": "markdown",
   "id": "ed08f9ba",
   "metadata": {},
   "source": [
    "## Step 2: Project Structure Overview\n",
    "\n",
    "Let’s understand the files and folders you’ll create. This modular structure keeps code organized and maintainable.\n",
    "\n",
    "- `fintech_app/` — Main application code\n",
    "- `database/` — Database schema and helpers\n",
    "- `knowledge_base/` — ChromaDB integration\n",
    "- `agents/` — Agent logic\n",
    "- `teams/` — Team orchestration\n",
    "- `tools/` — Tool adapters\n",
    "- `ui/` — User interface (e.g., Streamlit)\n",
    "- `pyproject.toml` — Project metadata and dependencies\n",
    "- `README.md` — Project documentation\n",
    "\n",
    "**Why?**\n",
    "- Separation of concerns\n",
    "- Easier to test, debug, and extend\n",
    "- Modern Python projects use `pyproject.toml` for dependency management"
   ]
  },
  {
   "cell_type": "code",
   "execution_count": null,
   "id": "4345eddd",
   "metadata": {},
   "outputs": [],
   "source": [
    "# TODO: Uncomment to create folders (run in terminal)\n",
    "# mkdir fintech_app database knowledge_base agents teams tools ui"
   ]
  },
  {
   "cell_type": "markdown",
   "id": "e661b12f",
   "metadata": {},
   "source": [
    "## Step 3: Create `__init__.py` Files\n",
    "\n",
    "Each Python package (folder) needs an `__init__.py` file. This tells Python to treat the folder as a package.\n",
    "\n",
    "**Why?**\n",
    "- Enables imports from these folders\n",
    "- Required for package structure"
   ]
  },
  {
   "cell_type": "code",
   "execution_count": null,
   "id": "3c64ed52",
   "metadata": {},
   "outputs": [],
   "source": [
    "# TODO: Uncomment to create empty __init__.py files in each folder (run in terminal)\n",
    "# New-Item fintech_app\\__init__.py -ItemType File\n",
    "# New-Item database\\__init__.py -ItemType File\n",
    "# New-Item knowledge_base\\__init__.py -ItemType File\n",
    "# New-Item agents\\__init__.py -ItemType File\n",
    "# New-Item teams\\__init__.py -ItemType File\n",
    "# New-Item tools\\__init__.py -ItemType File\n",
    "# New-Item ui\\__init__.py -ItemType File"
   ]
  },
  {
   "cell_type": "markdown",
   "id": "bd420cc5",
   "metadata": {},
   "source": [
    "## Step 4: Database Setup\n",
    "\n",
    "I have provided fintech.db to you already.\n",
    "\n",
    "See all the tables and dummy data populated in it"
   ]
  },
  {
   "cell_type": "markdown",
   "id": "b1779135",
   "metadata": {},
   "source": [
    "## Step 5:  Knowledge Base Integration\n",
    "\n",
    "\n",
    "\n",
    "I have provided all the files to be ingested into chroma db under folder kb_texts.\n",
    "\n",
    "Copy it into knowledge_base folder\n",
    "\n",
    "We’ll use ChromaDB for storing and retrieving financial knowledge. \n",
    "Let’s create a file for this integration.\n",
    "\n"
   ]
  },
  {
   "cell_type": "code",
   "execution_count": null,
   "id": "70f69da0",
   "metadata": {},
   "outputs": [],
   "source": [
    "# TODO: Create knowledge_base/kb_setup.py and copy the following code as comments. This code should match the original project exactly:\n",
    "\n",
    "\"\"\"\n",
    "Knowledge Base setup module\n",
    "Handles creation and population of ChromaDB vector database\n",
    "\"\"\"\n",
    "\n",
    "from dotenv import load_dotenv\n",
    "load_dotenv()  # Load environment variables from .env file\n",
    "import os\n",
    "from pathlib import Path\n",
    "import chromadb\n",
    "from langchain_chroma import Chroma\n",
    "from langchain_openai import OpenAIEmbeddings\n",
    "from langchain_community.document_loaders import TextLoader\n",
    "\n",
    "# Define knowledge base directory path\n",
    "KB_DIR = Path(__file__).parent / \"chroma_db\"\n",
    "KB_TEXTS_DIR = Path(__file__).parent / \"kb_texts\"\n",
    "\n",
    "def initialize_knowledge_base():\n",
    "    \"\"\"Initialize ChromaDB knowledge base with initial data using LangChain document loaders\"\"\"\n",
    "    print(f\"Setting up ChromaDB knowledge base at {KB_DIR}...\")\n",
    "    os.makedirs(KB_DIR, exist_ok=True)\n",
    "    os.makedirs(KB_TEXTS_DIR, exist_ok=True)\n",
    "\n",
    "    # Load documents from text files, adding domain metadata\n",
    "    docs = []\n",
    "    for txt_file in KB_TEXTS_DIR.glob(\"*.txt\"):\n",
    "        domain = txt_file.stem  # e.g., 'tech_sector' from 'tech_sector.txt'\n",
    "        loader = TextLoader(str(txt_file))\n",
    "        loaded_docs = loader.load()\n",
    "        # Add domain metadata to each document\n",
    "        for doc in loaded_docs:\n",
    "            if not hasattr(doc, 'metadata') or doc.metadata is None:\n",
    "                doc.metadata = {}\n",
    "            doc.metadata['domain'] = domain\n",
    "        docs.extend(loaded_docs)\n",
    "    # Create vectorstore using LangChain Chroma\n",
    "    embeddings = OpenAIEmbeddings()\n",
    "    vectorstore = Chroma.from_documents(\n",
    "        docs,\n",
    "        embedding=embeddings,\n",
    "        persist_directory=str(KB_DIR),\n",
    "        collection_name=\"fintech_knowledge\"\n",
    "    )\n",
    "    #vectorstore.persist()\n",
    "    print(\"Knowledge base setup complete!\")\n",
    "\n",
    "\n",
    "\n",
    "# For testing\n",
    "if __name__ == \"__main__\":\n",
    "    initialize_knowledge_base()"
   ]
  },
  {
   "cell_type": "markdown",
   "id": "6e4608d6",
   "metadata": {},
   "source": [
    "## Step 6: Scaffold Agent and Team Files\n",
    "\n",
    "Agents encapsulate business logic. Teams orchestrate agent collaboration. Let’s create starter files for each.\n",
    "\n",
    "**Why?**\n",
    "- Modularizes logic for maintainability\n",
    "- Supports parallel and sequential workflows"
   ]
  },
  {
   "cell_type": "code",
   "execution_count": null,
   "id": "9aafb33e",
   "metadata": {},
   "outputs": [],
   "source": [
    "# TODO: Create agent and team files as shown below \n",
    "# agents/portfolio_manager.py\n",
    "# agents/market_analyst.py\n",
    "# agents/financial_educator.py\n",
    "# agents/risk_assessment.py\n",
    "# agents/research_agent.py\n",
    "# teams/financial_education_team.py\n",
    "# teams/portfolio_optimization_team.py\n",
    "# teams/market_research_team.py\n",
    "# teams/orchestrator.py\n",
    "\n",
    "\n",
    "# \"\"\""
   ]
  },
  {
   "cell_type": "markdown",
   "id": "1a132742",
   "metadata": {},
   "source": [
    "## Step 7: Scaffold Tool Adapters\n",
    "\n",
    "Tool adapters connect your app to external APIs and services (e.g., ChromaDB, Yahoo Finance).\n",
    "\n",
    "**Why?**\n",
    "- Decouples business logic from external dependencies\n",
    "- Makes testing and extension easier"
   ]
  },
  {
   "cell_type": "code",
   "execution_count": null,
   "id": "5b8e502c",
   "metadata": {},
   "outputs": [],
   "source": [
    "# TODO: Create tools/chromadb_adapter.py and tools/finance_api_adapter.py (copy as comments)\n",
    "# tools/chromadb_adapter.py\n",
    "# \"\"\"\n",
    "# # Adapter for ChromaDB operations\n",
    "# # TODO: Implement functions for document retrieval\n",
    "# \"\"\"\n",
    "\n",
    "# tools/finance_api_adapter.py\n",
    "# \"\"\"\n",
    "# # Adapter for financial data APIs (e.g., Yahoo Finance)\n",
    "# # TODO: Implement functions for fetching stock data\n",
    "# \"\"\""
   ]
  },
  {
   "cell_type": "markdown",
   "id": "16629c5c",
   "metadata": {},
   "source": [
    "## Step 8: Next Steps and Best Practices\n",
    "\n",
    "You’ve scaffolded the project! Next, you’ll:\n",
    "- Implement each module step by step\n",
    "- Write tests for your code\n",
    "- Build the UI and connect it to your backend\n",
    "\n",
    "**Best Practices:**\n",
    "- Commit early and often\n",
    "- Write clear docstrings and comments\n",
    "- Test each component as you go\n",
    "\n",
    "---\n",
    "\n",
    "**Congratulations!** You now have a solid foundation for your Fintech-AutoGen project. Continue to the next notebook or section for implementation details."
   ]
  }
 ],
 "metadata": {
  "language_info": {
   "name": "python"
  }
 },
 "nbformat": 4,
 "nbformat_minor": 5
}
